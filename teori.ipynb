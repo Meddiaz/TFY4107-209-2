{
 "cells": [
  {
   "cell_type": "markdown",
   "metadata": {},
   "source": [
    "Intro\n",
    "Med utgangspunkt i baneformen y(x) og dens 1. (y'(x)) og 2. (y''(x)) deriverte kan det utledes bestemte størrelser for et objekt som ruller på banen."
   ]
  },
  {
   "cell_type": "markdown",
   "metadata": {},
   "source": [
    "Kinetisk energi\n",
    "Ved å legge ren rulling til grunn (v = r * w) kan vi utlede den totale kinetiske energien som \n",
    "\n",
    "(Ligning 1)\n",
    "\n",
    "I ligning (1) settes Ek, den totale kinetiske energien, som summen av transalsjonsenergien (Etrans) rotasjonsenergien (Erot). Videre defineres v som massesenteres fart, w som rotasjonsfarten, m som objektets masse og treghetsmomentet I er gitt ved\n",
    "\n",
    "(Ligning 2)\n",
    "\n",
    "I ligning (2) er r objektets radius og c en konstant avhengig av objektets massefordeling. "
   ]
  },
  {
   "cell_type": "markdown",
   "metadata": {},
   "source": [
    "Fart\n",
    "I startpunktet (x = 0) vil den rotasjonsfarten og massesenterets fart være lik null som fører til total kinetisk energi lik null. I banens laveste punkt vil den potensielle energien være lik null. Med utganspunkt i bevaring av mekanisk energi og de nevnte verdiene kan vi utlede farten som\n",
    "\n",
    "(Ligning 3)\n",
    "\n",
    "I ligning (3) er v(x) massesenterets fart med hensyn på den horisontale posisjonen x. Videre defineres g som tyngdeakselerasjonen, y0 som starthøyden og y(x) som høyden med hensyn på x."
   ]
  },
  {
   "cell_type": "markdown",
   "metadata": {},
   "source": [
    "Sentripetalaksellerasjon\n",
    "Med utgangspunkt i at banens krumning k og kan utrykkes som \n",
    "\n",
    "(Ligning 4)\n",
    "\n",
    "I ligning (4) er krumningen lik inversen til krumningsradien (R) og det fra dette at sentripital akselerasjonen (aort) er lik\n",
    "\n",
    "(Ligning 5)"
   ]
  },
  {
   "cell_type": "markdown",
   "metadata": {},
   "source": [
    "Normalkraft\n",
    "Ved å ta i bruk Newtons 2. lov normalt på banen er \n",
    "\n",
    "(Ligning 6)\n",
    "\n",
    "I ligning (6) er  sum(Fort) summen av kreftene normalt på banen. Fra dette følger det at \n",
    "\n",
    "(Ligning 7)\n",
    "\n",
    "I ligning (7) er B(x) helningsvinkelen uttrykt som \n",
    "\n",
    "(Ligning 8)"
   ]
  },
  {
   "cell_type": "markdown",
   "metadata": {},
   "source": [
    "Akselerasjon\n",
    "Ved å ta i bruk Newtons 2. lov i tangentiell retning og grunleggende rotasjonsmekanikk får vi ligningene \n",
    "\n",
    "(Ligning 9)\n",
    " \n",
    "og \n",
    "\n",
    "(Ligning 10)\n",
    "\n",
    "I ligning (9) er F friksjonskraften og i ligning (10) er tau kraftmomentet og alfa rotasjonsaksellerasjonen. Ved å kombinere ligning (9) og ligning (10) samt at det ved ren rulling følger at aksellerasjon er lik produktet av treghetsmomentet og rotasjonsaksellerasjon (a = alfa * I) får vi at \n",
    "\n",
    "(Ligning 11)"
   ]
  },
  {
   "cell_type": "markdown",
   "metadata": {},
   "source": [
    "Friksjon\n",
    "Fra ligning (9) og ligning (11) følger det at\n",
    "\n",
    "(Ligning 12)\n"
   ]
  }
 ],
 "metadata": {
  "language_info": {
   "name": "python"
  }
 },
 "nbformat": 4,
 "nbformat_minor": 2
}
