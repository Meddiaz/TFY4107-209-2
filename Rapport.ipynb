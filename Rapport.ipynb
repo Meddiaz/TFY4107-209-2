{
 "cells": [
  {
   "cell_type": "markdown",
   "metadata": {},
   "source": [
    "__<h1 style='text-align: center;'> Sluttfarten til en kule i en rullebane </h1>__\n",
    "<h4 style='text-align: center;'>N. M. Meland, L. B. Dahl, O. H. Hansen, J. O. Karlsen, O. P. Rasmussen, M. Presthagen</h4>\n",
    "\n",
    "_<p style='text-align: center;'>Institutt for fysikk, Norges teknisk-naturvitenskapelige universitet, 7491 Trondheim.</p>_\n",
    "\n"
   ]
  },
  {
   "cell_type": "markdown",
   "metadata": {},
   "source": [
    "***\n",
    "### __Sammendrag__\n",
    "\n",
    "Denne rapporten forklarer de fysiske kreftene som virker på en kule i en rullebane med varierende krumning. Scipys interpoleringsfunksjon Cubicspline er blitt brukt for å generere banen. Python er benyttet til å beregne størrelsen på både eksperimentell data og de numeriske verdiene. Videre undersøkes og presenteres resultatene for sluttfart og tidsbruk, samt forholdet mellom friksjonskraft og normalkraft. Når det kommer til slutthastighet ble det noe avvik mellom resultatet fra den numeriske utregningen og beregningen fra forsøkene. Ved numerisk utregning ble sluttfarten beregnet til 0.95 m/s, mens gjennomsnittlig sluttfart basert på forsøkene ble beregnet til 0.81 ± 0.2 m/s. Det kan være flere årsaker til avviket, eksempelvis feil i gjennomføringen av forsøkene eller feil i metodene brukt til beregninger.\n",
    "\n",
    "***"
   ]
  },
  {
   "cell_type": "markdown",
   "metadata": {},
   "source": [
    "### __1. Introduksjon__\n",
    "\n",
    "Dette prosjektet har gått ut på å studere en kule som ruller, uten glidning ned en bane. Banen ble konstruert med åtte punkter plassert i jevne avstander på 0,2 meter. Hvert punkt hadde en distinkt høyde, men oversteg aldri startpunktets høyde på 0,3 meter. Med banen som grunnlag, anvendte vi teoretiske formler til å beregne tidsavhengige funksjoner for farten, helningsvinkelen, normalkraften og friksjonskraften. Videre ble ti eksperimentelle forsøk gjennomført. Disse ble benyttet til sammenligning til de teoretiske beregningene."
   ]
  },
  {
   "cell_type": "markdown",
   "metadata": {},
   "source": [
    "### __2. Teori__\n",
    "\n",
    "Her kommer det teori"
   ]
  },
  {
   "cell_type": "markdown",
   "metadata": {},
   "source": [
    "### __3. Metode__\n",
    "\n",
    "Her kommer masse gode metoder"
   ]
  },
  {
   "cell_type": "markdown",
   "metadata": {},
   "source": [
    "### __4. Resultater__\n",
    "\n",
    "Her kommer resultater"
   ]
  },
  {
   "cell_type": "markdown",
   "metadata": {},
   "source": [
    "### __5. Diskusjon__\n",
    "\n",
    "Her kommer en diskusjon"
   ]
  },
  {
   "cell_type": "markdown",
   "metadata": {},
   "source": [
    "### __6. Konklusjon__\n",
    "\n",
    "Med 10 målinger som grunnlag regnet vi oss fram til en gjennomsnittlig slutthastighet $\\bar v=0.81\\pm0.02$ m/s. Det gir et 95\\% konfidensintervall for hastigheter mellom 0.77 og 0.85 m/s og et 75\\% konfidensintervall for hastigheter mellom 0.79 og 0.83 m/s. Numerisk beregnet vi sluttfarten til 1.62 m/s. Denne verdien er innenfor 2 standardavvik fra den eksperimentelle slutthastigheten. Avviket skyldes diverse feilkilder. Bruk av primitivt utstyr, bl.a. privat mobil og Tracker fører til nokså store målefeil. Tilfeldige og systematiske feil i forbindelse med at kula letter fra berg-og-dal-banen er en annen viktig feilkilde. Tar en utstyr og metode til betraktning fremstår standardavviket innenfor for hva en kan forvente, og vi konkluderer med at det er nokså gode sammenhenger mellom de numeriske og eksperimentelle resultatene.\n"
   ]
  },
  {
   "cell_type": "markdown",
   "metadata": {},
   "source": [
    "### __Referanser__\n",
    "\n",
    "Referanseliste her"
   ]
  }
 ],
 "metadata": {
  "language_info": {
   "name": "python"
  }
 },
 "nbformat": 4,
 "nbformat_minor": 2
}
