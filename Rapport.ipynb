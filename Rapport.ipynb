{
 "cells": [
  {
   "cell_type": "markdown",
   "metadata": {},
   "source": [
    "__<h1 style='text-align: center;'> Sluttfarten til en kule i en rullebane </h1>__\n",
    "<h4 style='text-align: center;'>N. M. Meland, L. B. Dahl, O. H. Hansen, J. O. Karlsen, O. P. Rasmussen, M. Presthagen</h4>\n",
    "\n",
    "_<p style='text-align: center;'>Institutt for fysikk, Norges teknisk-naturvitenskapelige universitet, 7491 Trondheim.</p>_\n",
    "\n"
   ]
  },
  {
   "cell_type": "markdown",
   "metadata": {},
   "source": [
    "***\n",
    "### __Sammendrag__\n",
    "\n",
    "Rapporten forklarer de fysiske kreftene som virker på en kule i en rullebane med varierende krumning. Banen er generert\n",
    "med Scipys interpoleringsfunksjon Cubicspline. Størrelsene er beregnet ved hjelp av Python for både numeriske verdier og\n",
    "for eksperimentell data, før resultatene for sluttfart, tidsbruk og friksjonskraft i forhold til normalkraft er blitt undersøkt\n",
    "og presentert. Numerisk utregning ga sluttfart 0.95 m/s, mens forsøkene beregnet den gjennomsnittlige sluttfarten til\n",
    "0.81 ± 0.02 m/s. Eksperimentell slutthastighet avviker noe fra den numerisk beregnede. Avviket kan for eksempel skyldes\n",
    "feil relatert til målingene gjort i Tracker, menneskelige feil i gjennomførelsen av forsøket eller metodiske feil i beregningene.\n",
    "***"
   ]
  },
  {
   "cell_type": "markdown",
   "metadata": {},
   "source": [
    "### __1. Introduksjon__\n",
    "\n",
    "Her kommer en introduksjon"
   ]
  },
  {
   "cell_type": "markdown",
   "metadata": {},
   "source": [
    "### __2. Teori__\n",
    "\n",
    "Her kommer teori"
   ]
  },
  {
   "cell_type": "markdown",
   "metadata": {},
   "source": [
    "### __3. Metode__\n",
    "\n",
    "Her kommer masse gode metoder"
   ]
  },
  {
   "cell_type": "markdown",
   "metadata": {},
   "source": [
    "### __4. Resultater__\n",
    "\n",
    "Her kommer resultater"
   ]
  },
  {
   "cell_type": "markdown",
   "metadata": {},
   "source": [
    "### __5. Diskusjon__\n",
    "\n",
    "Her kommer en diskusjon"
   ]
  },
  {
   "cell_type": "markdown",
   "metadata": {},
   "source": [
    "### __6. Konklusjon__\n",
    "\n",
    "Her kommer en konklusjon"
   ]
  },
  {
   "cell_type": "markdown",
   "metadata": {},
   "source": [
    "### __Referanser__\n",
    "\n",
    "Referanseliste her"
   ]
  }
 ],
 "metadata": {
  "language_info": {
   "name": "python"
  }
 },
 "nbformat": 4,
 "nbformat_minor": 2
}
